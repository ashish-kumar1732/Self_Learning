{
 "cells": [
  {
   "cell_type": "code",
   "execution_count": null,
   "id": "dc220aee",
   "metadata": {},
   "outputs": [
    {
     "name": "stdout",
     "output_type": "stream",
     "text": [
      "['apple', 'mango', 'sev', 'tamatar', 56, 5.15]\n",
      "<class 'list'>\n",
      "5.15\n",
      "<class 'float'>\n"
     ]
    }
   ],
   "source": [
    "i = [\"apple\", \"mango\", 'sev', \"tamatar\", 56, 5.15]\n",
    "print(i)\n",
    "print(type(i))\n",
    "print(i[5])\n",
    "print(type(i[5]))\n"
   ]
  },
  {
   "cell_type": "code",
   "execution_count": 17,
   "id": "f5c2a9c9",
   "metadata": {},
   "outputs": [
    {
     "name": "stdout",
     "output_type": "stream",
     "text": [
      "['apple', 'mango', 'sev', 'tamatar', 56, 5.15, 'aalu']\n"
     ]
    }
   ],
   "source": [
    "i = [\"apple\", \"mango\", 'sev', \"tamatar\", 56, 5.15]\n",
    "i.append(\"aalu\")\n",
    "print(i)"
   ]
  },
  {
   "cell_type": "code",
   "execution_count": 20,
   "id": "9a1bb04e",
   "metadata": {},
   "outputs": [
    {
     "name": "stdout",
     "output_type": "stream",
     "text": [
      "[10, 5, 2, 1]\n"
     ]
    }
   ],
   "source": [
    "number= [1,5,2,10]\n",
    "number.sort()\n",
    "number.reverse()\n",
    "print(number)"
   ]
  },
  {
   "cell_type": "code",
   "execution_count": null,
   "id": "73bca1bc",
   "metadata": {},
   "outputs": [
    {
     "name": "stdout",
     "output_type": "stream",
     "text": [
      "[10, 9, 7, 5, 2, 1]\n",
      "[30, 25, 15, 10, 9, 7, 5, 2, 1]\n"
     ]
    }
   ],
   "source": [
    "number= [1,5,2,10,7,9,15,30,25]\n",
    "number.sort()\n",
    "number.reverse()\n",
    "print(number[-6::])\n",
    "print(number)"
   ]
  },
  {
   "cell_type": "code",
   "execution_count": 39,
   "id": "15485aaf",
   "metadata": {},
   "outputs": [
    {
     "name": "stdout",
     "output_type": "stream",
     "text": [
      "[10, 7, 9, 15, 30, 25]\n",
      "[1, 5, 2, 10, 7, 9, 15, 30, 25]\n"
     ]
    }
   ],
   "source": [
    "number= [1,5,2,10,7,9,15,30,25]\n",
    "print(number[-6::])\n",
    "print(number)"
   ]
  },
  {
   "cell_type": "code",
   "execution_count": 45,
   "id": "439f4635",
   "metadata": {},
   "outputs": [
    {
     "name": "stdout",
     "output_type": "stream",
     "text": [
      "[7, 5, 2, 1]\n"
     ]
    }
   ],
   "source": [
    "number= [30, 25, 15, 10, 9, 7, 5, 2, 1]\n",
    "print(number[5::])"
   ]
  },
  {
   "cell_type": "code",
   "execution_count": null,
   "id": "9733b59f",
   "metadata": {},
   "outputs": [],
   "source": [
    "number= [30, 25, 15, 10, 9, 7, 5, 2, 1]\n",
    "print(number[5:len(number):2])"
   ]
  },
  {
   "cell_type": "code",
   "execution_count": 46,
   "id": "28f24411",
   "metadata": {},
   "outputs": [
    {
     "name": "stdout",
     "output_type": "stream",
     "text": [
      "1\n",
      "30\n",
      "9\n"
     ]
    }
   ],
   "source": [
    "number= [1,5,2,10,7,9,15,30,25]\n",
    "print(min(number))\n",
    "print(max(number))\n",
    "print(len(number))"
   ]
  },
  {
   "cell_type": "code",
   "execution_count": null,
   "id": "83885f4b",
   "metadata": {},
   "outputs": [
    {
     "name": "stdout",
     "output_type": "stream",
     "text": [
      "[99, 30, 25, 15, 10, 9, 7, 5, 2, 1]\n"
     ]
    }
   ],
   "source": [
    "number= [1,5,2,10,7,9,15,30,25]\n",
    "number.append(99)\n",
    "number.sort()\n",
    "number.reverse()\n",
    "print(number)"
   ]
  },
  {
   "cell_type": "code",
   "execution_count": 64,
   "id": "41a766dc",
   "metadata": {},
   "outputs": [
    {
     "name": "stdout",
     "output_type": "stream",
     "text": [
      "[15, 20]\n",
      "['sev', 15, 20]\n",
      "['sev', 20]\n",
      "20\n",
      "['sev']\n",
      "['sev']\n"
     ]
    }
   ],
   "source": [
    "number=[]\n",
    "number.append(15)\n",
    "number.append(20)\n",
    "print(number)\n",
    "number.insert(0,\"sev\")\n",
    "print(number)\n",
    "number.remove(15)\n",
    "print(number)\n",
    "print(number.pop())\n",
    "print(number)\n",
    "number.count(\"sev\")\n",
    "number.count(0)\n",
    "print(number)"
   ]
  },
  {
   "cell_type": "code",
   "execution_count": 70,
   "id": "3f76b967",
   "metadata": {},
   "outputs": [
    {
     "name": "stdout",
     "output_type": "stream",
     "text": [
      "<class 'tuple'>\n"
     ]
    }
   ],
   "source": [
    "tp =(1,)\n",
    "print(type(tp))"
   ]
  },
  {
   "cell_type": "code",
   "execution_count": 79,
   "id": "6b6f2df1",
   "metadata": {},
   "outputs": [
    {
     "name": "stdout",
     "output_type": "stream",
     "text": [
      "<class 'tuple'>\n"
     ]
    }
   ],
   "source": [
    "tp =(1,)\n",
    "# tp[0]=5\n",
    "print(type(tp)) ## gives an error cuz' tuples are immutable"
   ]
  },
  {
   "cell_type": "code",
   "execution_count": null,
   "id": "af887a6d",
   "metadata": {},
   "outputs": [
    {
     "name": "stdout",
     "output_type": "stream",
     "text": [
      "a is: 10\n",
      "b is: 5\n"
     ]
    }
   ],
   "source": [
    "a=5\n",
    "b=10\n",
    "a,b=b,a\n",
    "print(\"a is:\",a)\n",
    "print(\"b is:\",b)"
   ]
  },
  {
   "cell_type": "code",
   "execution_count": null,
   "id": "8a8bc74a",
   "metadata": {},
   "outputs": [
    {
     "name": "stdout",
     "output_type": "stream",
     "text": [
      "a is: 6\n",
      "b is: 5\n"
     ]
    }
   ],
   "source": [
    "a=5\n",
    "b=6\n",
    "temp=a\n",
    "a=b ## traditional way to swap\n",
    "b =temp\n",
    "print(\"a is:\",a)\n",
    "print(\"b is:\",b)"
   ]
  },
  {
   "cell_type": "code",
   "execution_count": null,
   "id": "7b5613f1",
   "metadata": {},
   "outputs": [
    {
     "data": {
      "text/plain": [
       "(2, 6)"
      ]
     },
     "execution_count": 86,
     "metadata": {},
     "output_type": "execute_result"
    }
   ],
   "source": [
    "### Tuple Methods ###\n",
    "\n",
    "# a=(1,2)\n",
    "# b=(5,4)\n",
    "# c= a+b\n",
    "# print(c)\n",
    "# print(type(c))\n",
    "\n",
    "a= (1,2,6,5)\n",
    "a.count(2)\n",
    "a[1:3]\n",
    "\n",
    "\n",
    "\n",
    "\n",
    "\n"
   ]
  },
  {
   "cell_type": "code",
   "execution_count": 90,
   "id": "3540f75f",
   "metadata": {},
   "outputs": [
    {
     "name": "stdout",
     "output_type": "stream",
     "text": [
      "<class 'tuple'>\n",
      "('hey', 1, 'hey', 1, 'hey', 1)\n"
     ]
    }
   ],
   "source": [
    "a= (\"hey\",1)*3\n",
    "print(type(a))\n",
    "print(a)"
   ]
  },
  {
   "cell_type": "code",
   "execution_count": null,
   "id": "836e9a9c",
   "metadata": {},
   "outputs": [],
   "source": []
  }
 ],
 "metadata": {
  "kernelspec": {
   "display_name": "Python 3",
   "language": "python",
   "name": "python3"
  },
  "language_info": {
   "codemirror_mode": {
    "name": "ipython",
    "version": 3
   },
   "file_extension": ".py",
   "mimetype": "text/x-python",
   "name": "python",
   "nbconvert_exporter": "python",
   "pygments_lexer": "ipython3",
   "version": "3.12.5"
  }
 },
 "nbformat": 4,
 "nbformat_minor": 5
}
