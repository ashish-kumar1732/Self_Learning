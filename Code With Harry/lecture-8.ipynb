{
 "cells": [
  {
   "cell_type": "code",
   "execution_count": 2,
   "id": "25800c4a",
   "metadata": {},
   "outputs": [
    {
     "name": "stdout",
     "output_type": "stream",
     "text": [
      "<class 'set'>\n"
     ]
    }
   ],
   "source": [
    "s = set ()\n",
    "print(type(s))"
   ]
  },
  {
   "cell_type": "code",
   "execution_count": 4,
   "id": "d3fc60f9",
   "metadata": {},
   "outputs": [
    {
     "name": "stdout",
     "output_type": "stream",
     "text": [
      "{1, 2, 3, 4}\n",
      "<class 'set'>\n"
     ]
    }
   ],
   "source": [
    "s_from_list = set([1,2,3,4])\n",
    "print(s_from_list)\n",
    "print(type(s_from_list))"
   ]
  },
  {
   "cell_type": "code",
   "execution_count": 5,
   "id": "6522e37e",
   "metadata": {},
   "outputs": [
    {
     "name": "stdout",
     "output_type": "stream",
     "text": [
      "{1}\n"
     ]
    }
   ],
   "source": [
    "s= set()\n",
    "s.add(1)\n",
    "print(s)"
   ]
  },
  {
   "cell_type": "code",
   "execution_count": 9,
   "id": "5d165431",
   "metadata": {},
   "outputs": [
    {
     "name": "stdout",
     "output_type": "stream",
     "text": [
      "{1, 2} {1, 2, 4, 9} {1, 9}\n"
     ]
    }
   ],
   "source": [
    "s =set()\n",
    "s.add(1)\n",
    "s.add(2)\n",
    "s1= s.union({1,2,4,9})\n",
    "s2= s1.intersection({1,5,9})\n",
    "print(s,s1,s2)"
   ]
  },
  {
   "cell_type": "code",
   "execution_count": 2,
   "id": "059237a4",
   "metadata": {},
   "outputs": [
    {
     "name": "stdout",
     "output_type": "stream",
     "text": [
      "sd 5\n",
      "md 7\n",
      "hd 9\n",
      "gd 2\n",
      "{'sd': 5, 'md': 7, 'hd': 9, 'gd': 2}\n"
     ]
    }
   ],
   "source": [
    "list1 = [ [\"sd\", 5], [\"md\", 7], [\"hd\", 9], [\"gd\", 2] ]\n",
    "for item, key in list1:\n",
    "    print(item, key)\n",
    "list1 = [ [\"sd\", 5], [\"md\", 7], [\"hd\", 9], [\"gd\", 2] ]\n",
    "dict1 = dict(list1)\n",
    "print(dict1)"
   ]
  },
  {
   "cell_type": "code",
   "execution_count": null,
   "id": "f40e301d",
   "metadata": {},
   "outputs": [
    {
     "name": "stdout",
     "output_type": "stream",
     "text": [
      "{'sd': 5, 'md': 7, 'hd': 9, 'gd': 2}\n",
      "sd is 5\n",
      "md is 7\n",
      "hd is 9\n",
      "gd is 2\n"
     ]
    }
   ],
   "source": [
    "list1 = [ [\"sd\", 5], [\"md\", 7], [\"hd\", 9], [\"gd\", 2] ]\n",
    "dict1 = dict(list1)\n",
    "print(dict1)\n",
    "for i,j in dict1.items():\n",
    "    print(i,\"is\",j)"
   ]
  },
  {
   "cell_type": "code",
   "execution_count": 14,
   "id": "6071110e",
   "metadata": {},
   "outputs": [
    {
     "name": "stdout",
     "output_type": "stream",
     "text": [
      "{'sd': 5, 'md': 7, 'hd': 9, 'gd': 2}\n",
      "sd\n",
      "md\n",
      "hd\n",
      "gd\n"
     ]
    }
   ],
   "source": [
    "list1 = [ [\"sd\", 5], [\"md\", 7], [\"hd\", 9], [\"gd\", 2] ]\n",
    "dict1 = dict(list1)\n",
    "print(dict1)\n",
    "for i in dict1:\n",
    "    print(i)"
   ]
  },
  {
   "cell_type": "code",
   "execution_count": null,
   "id": "73233eff",
   "metadata": {},
   "outputs": [],
   "source": [
    "list1 = [ [\"sd\", 5], [\"md\", 7], [\"hd\", 9], [\"gd\", 2] ]\n",
    "dict1 = dict(list1)\n",
    "print(dict1)\n",
    "for i,k in dict1:\n",
    "    print(i, k) ### break kar dega single item string ko by two"
   ]
  }
 ],
 "metadata": {
  "kernelspec": {
   "display_name": "Python 3",
   "language": "python",
   "name": "python3"
  },
  "language_info": {
   "codemirror_mode": {
    "name": "ipython",
    "version": 3
   },
   "file_extension": ".py",
   "mimetype": "text/x-python",
   "name": "python",
   "nbconvert_exporter": "python",
   "pygments_lexer": "ipython3",
   "version": "3.12.5"
  }
 },
 "nbformat": 4,
 "nbformat_minor": 5
}
