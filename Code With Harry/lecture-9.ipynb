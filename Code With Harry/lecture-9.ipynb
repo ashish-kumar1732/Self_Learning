{
 "cells": [
  {
   "cell_type": "code",
   "execution_count": 1,
   "id": "3c8bf47e",
   "metadata": {},
   "outputs": [
    {
     "name": "stdout",
     "output_type": "stream",
     "text": [
      "[['sd', 5], ['md', 7], ['hd', 9], ['gd', 2]]\n"
     ]
    }
   ],
   "source": [
    "list1 = [ [\"sd\", 5], [\"md\", 7], [\"hd\", 9], [\"gd\", 2] ]\n",
    "print(list1)"
   ]
  },
  {
   "cell_type": "code",
   "execution_count": 2,
   "id": "871ca8c9",
   "metadata": {},
   "outputs": [
    {
     "name": "stdout",
     "output_type": "stream",
     "text": [
      "['sd', 5]\n",
      "['md', 7]\n",
      "['hd', 9]\n",
      "['gd', 2]\n"
     ]
    }
   ],
   "source": [
    "list1 = [ [\"sd\", 5], [\"md\", 7], [\"hd\", 9], [\"gd\", 2] ]\n",
    "for item in list1:\n",
    "    print(item)"
   ]
  },
  {
   "cell_type": "code",
   "execution_count": null,
   "id": "bee49970",
   "metadata": {},
   "outputs": [
    {
     "name": "stdout",
     "output_type": "stream",
     "text": [
      "6\n",
      "48\n"
     ]
    }
   ],
   "source": [
    "# list2 = [1,\"a\",6,48,\"bja\"]\n",
    "# for i in list2:\n",
    "#     if str(i).isnumeric() and i >= 6:\n",
    "#         print(i)\n",
    "        \n",
    "# list2 = [1, \"a\", 6, 48, \"bja\"]\n",
    "# for i in list2:\n",
    "#     if type(i) == int and i >= 6:\n",
    "#         print(i)\n",
    "\n",
    "list2 = [1, \"a\", 6, 48, \"bja\"]\n",
    "for i in list2:\n",
    "    if isinstance(i, int) and i >= 6:\n",
    "        print(i)\n",
    "        "
   ]
  }
 ],
 "metadata": {
  "kernelspec": {
   "display_name": "Python 3",
   "language": "python",
   "name": "python3"
  },
  "language_info": {
   "codemirror_mode": {
    "name": "ipython",
    "version": 3
   },
   "file_extension": ".py",
   "mimetype": "text/x-python",
   "name": "python",
   "nbconvert_exporter": "python",
   "pygments_lexer": "ipython3",
   "version": "3.12.5"
  }
 },
 "nbformat": 4,
 "nbformat_minor": 5
}
