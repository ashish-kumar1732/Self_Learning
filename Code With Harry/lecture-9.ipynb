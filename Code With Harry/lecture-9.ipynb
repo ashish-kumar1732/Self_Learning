{
 "cells": [
  {
   "cell_type": "code",
   "execution_count": 1,
   "id": "3c8bf47e",
   "metadata": {},
   "outputs": [
    {
     "name": "stdout",
     "output_type": "stream",
     "text": [
      "[['sd', 5], ['md', 7], ['hd', 9], ['gd', 2]]\n"
     ]
    }
   ],
   "source": [
    "list1 = [ [\"sd\", 5], [\"md\", 7], [\"hd\", 9], [\"gd\", 2] ]\n",
    "print(list1)"
   ]
  },
  {
   "cell_type": "code",
   "execution_count": 2,
   "id": "871ca8c9",
   "metadata": {},
   "outputs": [
    {
     "name": "stdout",
     "output_type": "stream",
     "text": [
      "['sd', 5]\n",
      "['md', 7]\n",
      "['hd', 9]\n",
      "['gd', 2]\n"
     ]
    }
   ],
   "source": [
    "list1 = [ [\"sd\", 5], [\"md\", 7], [\"hd\", 9], [\"gd\", 2] ]\n",
    "for item in list1:\n",
    "    print(item)"
   ]
  },
  {
   "cell_type": "code",
   "execution_count": 1,
   "id": "bee49970",
   "metadata": {},
   "outputs": [
    {
     "name": "stdout",
     "output_type": "stream",
     "text": [
      "6\n",
      "48\n"
     ]
    }
   ],
   "source": [
    "# list2 = [1,\"a\",6,48,\"bja\"]\n",
    "# for i in list2:\n",
    "#     if str(i).isnumeric() and i >= 6:\n",
    "#         print(i)\n",
    "        \n",
    "# list2 = [1, \"a\", 6, 48, \"bja\"]\n",
    "# for i in list2:\n",
    "#     if type(i) == int and i >= 6:\n",
    "#         print(i)\n",
    "\n",
    "list2 = [1, \"a\", 6, 48, \"bja\"]\n",
    "for i in list2:\n",
    "    if isinstance(i, int) and i >= 6:\n",
    "        print(i)\n",
    "        "
   ]
  },
  {
   "cell_type": "code",
   "execution_count": 4,
   "id": "b07da537",
   "metadata": {},
   "outputs": [
    {
     "name": "stdout",
     "output_type": "stream",
     "text": [
      "0\n",
      "1\n",
      "2\n",
      "3\n",
      "4\n",
      "5\n",
      "6\n",
      "7\n",
      "8\n",
      "9\n",
      "10\n",
      "11\n",
      "12\n",
      "13\n",
      "14\n",
      "15\n",
      "16\n",
      "17\n",
      "18\n",
      "19\n",
      "20\n",
      "21\n",
      "22\n",
      "23\n",
      "24\n",
      "25\n",
      "26\n",
      "27\n",
      "28\n",
      "29\n",
      "30\n",
      "31\n",
      "32\n",
      "33\n",
      "34\n",
      "35\n",
      "36\n",
      "37\n",
      "38\n",
      "39\n",
      "40\n",
      "41\n",
      "42\n",
      "43\n",
      "44\n"
     ]
    }
   ],
   "source": [
    "i = 0\n",
    "while (i<45):\n",
    "    print(i)\n",
    "    i = i+1"
   ]
  },
  {
   "cell_type": "code",
   "execution_count": 7,
   "id": "f4afcd28",
   "metadata": {},
   "outputs": [
    {
     "name": "stdout",
     "output_type": "stream",
     "text": [
      "1 2 3 4 5 6 7 8 9 10 11 12 13 14 15 16 17 18 19 20 21 22 23 24 25 26 27 28 29 30 31 32 33 34 35 36 37 38 39 40 41 42 43 44 45 "
     ]
    }
   ],
   "source": [
    "i = 0\n",
    "while (i<45):\n",
    "    print(i+1, end=\" \")\n",
    "    i=i+1"
   ]
  },
  {
   "cell_type": "code",
   "execution_count": 11,
   "id": "13df98d3",
   "metadata": {},
   "outputs": [
    {
     "name": "stdout",
     "output_type": "stream",
     "text": [
      "1, 2, 3, 4, 5, 6, 7, 8, 9, 10, 11, 12, 13, 14, 15, 16, 17, 18, 19, 20, 21, 22, 23, 24, 25, "
     ]
    }
   ],
   "source": [
    "i = 0\n",
    "while(1):\n",
    "    print(i+1, end=\", \")\n",
    "    if i == 24:\n",
    "        break\n",
    "    i =i+1"
   ]
  },
  {
   "cell_type": "code",
   "execution_count": 12,
   "id": "4308f936",
   "metadata": {},
   "outputs": [
    {
     "name": "stdout",
     "output_type": "stream",
     "text": [
      "1, 2, 3, 4, 5, 6, 7, 8, 9, 10, 11, 12, 13, 14, 15, 16, 17, 18, 19, 20, 21, 22, 23, 24, 25, "
     ]
    }
   ],
   "source": [
    "i = 0\n",
    "while(True):\n",
    "    print(i+1, end=\", \")\n",
    "    if i == 24:\n",
    "        break\n",
    "    i =i+1"
   ]
  },
  {
   "cell_type": "code",
   "execution_count": 13,
   "id": "330a2363",
   "metadata": {},
   "outputs": [
    {
     "name": "stdout",
     "output_type": "stream",
     "text": [
      "11, 12, 13, 14, 15, 16, 17, 18, 19, 20, 21, 22, 23, 24, 25, "
     ]
    }
   ],
   "source": [
    "i = 0\n",
    "while(True):\n",
    "    if i<10:\n",
    "        i=i+1\n",
    "        continue\n",
    "    print(i+1, end=\", \")\n",
    "    if i == 24:\n",
    "        break\n",
    "    i =i+1"
   ]
  },
  {
   "cell_type": "code",
   "execution_count": 20,
   "id": "0c9c9238",
   "metadata": {},
   "outputs": [
    {
     "name": "stdout",
     "output_type": "stream",
     "text": [
      "5\n",
      "3\n",
      "congrats! you have a entered a number bigger than 100 which is 133\n"
     ]
    }
   ],
   "source": [
    "### Quiz -- user se input lena hai until it's not bigger than 100\n",
    "while(1):\n",
    "   user_ip = int(input(\"enter a number: \"))\n",
    "   if user_ip <= 100:\n",
    "      print(user_ip)\n",
    "      continue\n",
    "   else:\n",
    "      print(f\"congrats! you have a entered a number bigger than 100 which is {user_ip}\")\n",
    "      break"
   ]
  },
  {
   "cell_type": "code",
   "execution_count": null,
   "id": "38dc60c5",
   "metadata": {},
   "outputs": [],
   "source": []
  }
 ],
 "metadata": {
  "kernelspec": {
   "display_name": "Python 3",
   "language": "python",
   "name": "python3"
  },
  "language_info": {
   "codemirror_mode": {
    "name": "ipython",
    "version": 3
   },
   "file_extension": ".py",
   "mimetype": "text/x-python",
   "name": "python",
   "nbconvert_exporter": "python",
   "pygments_lexer": "ipython3",
   "version": "3.12.5"
  }
 },
 "nbformat": 4,
 "nbformat_minor": 5
}
