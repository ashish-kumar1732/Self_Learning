{
 "cells": [
  {
   "cell_type": "code",
   "execution_count": 1,
   "id": "ec2e6f17",
   "metadata": {},
   "outputs": [
    {
     "name": "stdout",
     "output_type": "stream",
     "text": [
      "hey, how are you?\n"
     ]
    }
   ],
   "source": [
    "mystr= \"hey, how are you?\"\n",
    "print(mystr)"
   ]
  },
  {
   "cell_type": "code",
   "execution_count": 7,
   "id": "78689f7c",
   "metadata": {},
   "outputs": [
    {
     "name": "stdout",
     "output_type": "stream",
     "text": [
      " \n"
     ]
    }
   ],
   "source": [
    "mystr= \"hey, how are you?\"\n",
    "print(mystr[4])"
   ]
  },
  {
   "cell_type": "code",
   "execution_count": 8,
   "id": "464ed11b",
   "metadata": {},
   "outputs": [
    {
     "name": "stdout",
     "output_type": "stream",
     "text": [
      "hey,\n"
     ]
    }
   ],
   "source": [
    "mystr= \"hey, how are you?\"\n",
    "print(mystr[0:4])"
   ]
  },
  {
   "cell_type": "code",
   "execution_count": 9,
   "id": "3354e49a",
   "metadata": {},
   "outputs": [
    {
     "name": "stdout",
     "output_type": "stream",
     "text": [
      "17\n"
     ]
    }
   ],
   "source": [
    "mystr= \"hey, how are you?\"\n",
    "print(len(mystr))"
   ]
  },
  {
   "cell_type": "code",
   "execution_count": 12,
   "id": "a394a419",
   "metadata": {},
   "outputs": [
    {
     "name": "stdout",
     "output_type": "stream",
     "text": [
      "h\n"
     ]
    }
   ],
   "source": [
    "mystr= \"hey, how are you?\"\n",
    "print(mystr[0:4:9])"
   ]
  },
  {
   "cell_type": "code",
   "execution_count": null,
   "id": "f8e611b9",
   "metadata": {},
   "outputs": [
    {
     "name": "stdout",
     "output_type": "stream",
     "text": [
      "hey, how are you?\n"
     ]
    }
   ],
   "source": [
    "# mystr= \"hey, how are you?\"\n",
    "# print(mystr[0:17:1])\n",
    "mystr= \"hey, how are you?\"\n",
    "print(mystr[::]) # Both are the same"
   ]
  },
  {
   "cell_type": "code",
   "execution_count": 25,
   "id": "4c32e13b",
   "metadata": {},
   "outputs": [
    {
     "name": "stdout",
     "output_type": "stream",
     "text": [
      "eawhyh\n"
     ]
    }
   ],
   "source": [
    "mystr= \"hey how are you\"\n",
    "print(mystr[-5::-2])"
   ]
  },
  {
   "cell_type": "code",
   "execution_count": 26,
   "id": "e4b5fc94",
   "metadata": {},
   "outputs": [
    {
     "name": "stdout",
     "output_type": "stream",
     "text": [
      "e you\n"
     ]
    }
   ],
   "source": [
    "mystr= \"hey how are you\"\n",
    "print(mystr[-5:])"
   ]
  },
  {
   "cell_type": "code",
   "execution_count": null,
   "id": "f87c6c98",
   "metadata": {},
   "outputs": [
    {
     "name": "stdout",
     "output_type": "stream",
     "text": [
      "False\n"
     ]
    }
   ],
   "source": [
    "mystr= \"hey how are you\"\n",
    "print(mystr.isalnum()) # it is not cuz' there are spaces"
   ]
  },
  {
   "cell_type": "code",
   "execution_count": 28,
   "id": "0532a568",
   "metadata": {},
   "outputs": [
    {
     "name": "stdout",
     "output_type": "stream",
     "text": [
      "True\n"
     ]
    }
   ],
   "source": [
    "mystr= \"hey\"\n",
    "print(mystr.isalnum()) # it is cuz' there are not spaces"
   ]
  },
  {
   "cell_type": "code",
   "execution_count": 39,
   "id": "5ef7f497",
   "metadata": {},
   "outputs": [
    {
     "name": "stdout",
     "output_type": "stream",
     "text": [
      "False\n",
      "True\n",
      "2\n",
      "Hey how are you\n",
      "Hey How Are You\n",
      "-1\n",
      "8\n",
      "14\n",
      "HEY HOW ARE YOU\n",
      "hey how are you\n",
      "heya, How are you\n"
     ]
    }
   ],
   "source": [
    "mystr= \"hey How are you\"\n",
    "print(mystr.isalnum())\n",
    "print(mystr.endswith(\"you\")) \n",
    "print(mystr.count(\"o\"))\n",
    "print(mystr.capitalize())\n",
    "print(mystr.title())\n",
    "print(mystr.find(\"is\"))\n",
    "print(mystr.find(\"are\"))\n",
    "print(mystr.find(\"u\")) # it tell index number\n",
    "print(mystr.upper())\n",
    "print(mystr.lower())\n",
    "print(mystr.replace(\"hey\",\"heya,\"))"
   ]
  },
  {
   "cell_type": "code",
   "execution_count": null,
   "id": "bbb0cb37",
   "metadata": {},
   "outputs": [],
   "source": []
  }
 ],
 "metadata": {
  "kernelspec": {
   "display_name": "Python 3",
   "language": "python",
   "name": "python3"
  },
  "language_info": {
   "codemirror_mode": {
    "name": "ipython",
    "version": 3
   },
   "file_extension": ".py",
   "mimetype": "text/x-python",
   "name": "python",
   "nbconvert_exporter": "python",
   "pygments_lexer": "ipython3",
   "version": "3.12.5"
  }
 },
 "nbformat": 4,
 "nbformat_minor": 5
}
