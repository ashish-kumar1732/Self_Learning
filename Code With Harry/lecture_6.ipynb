{
 "cells": [
  {
   "cell_type": "code",
   "execution_count": 3,
   "id": "337bda18",
   "metadata": {},
   "outputs": [
    {
     "name": "stdout",
     "output_type": "stream",
     "text": [
      "<class 'dict'>\n"
     ]
    }
   ],
   "source": [
    "## dictionary is nothing but key value pair\n",
    "\n",
    "d1 ={}\n",
    "print(type(d1))"
   ]
  },
  {
   "cell_type": "code",
   "execution_count": 6,
   "id": "7fe14c79",
   "metadata": {},
   "outputs": [
    {
     "name": "stdout",
     "output_type": "stream",
     "text": [
      "aalu\n"
     ]
    }
   ],
   "source": [
    "d2={\"harry\": \"aalu\", \"rohan\": \"bhindi\", \"raju\":\"paneer\"}\n",
    "print(d2[\"harry\"])"
   ]
  },
  {
   "cell_type": "code",
   "execution_count": 10,
   "id": "1be22e1d",
   "metadata": {},
   "outputs": [
    {
     "name": "stdout",
     "output_type": "stream",
     "text": [
      "aalu\n",
      "roti\n"
     ]
    }
   ],
   "source": [
    "d2={\"harry\": \"aalu\", \"rohan\": \"bhindi\", \"raju\":\"paneer\", \"rajeev\": {\"breakfast\":\"peanut butter\",\"lunch\":\"roti\",\"dinner\":\"Paneer\"}}\n",
    "print(d2[\"harry\"])\n",
    "print(d2[\"rajeev\"][\"lunch\"])"
   ]
  },
  {
   "cell_type": "code",
   "execution_count": 13,
   "id": "c8e84bef",
   "metadata": {},
   "outputs": [
    {
     "name": "stdout",
     "output_type": "stream",
     "text": [
      "{'rohan': 'bhindi', 'raju': 'paneer', 'rajeev': {'breakfast': 'peanut butter', 'lunch': 'roti', 'dinner': 'Paneer'}, 'ankit': 'dal'}\n"
     ]
    }
   ],
   "source": [
    "d2={\"harry\": \"aalu\", \"rohan\": \"bhindi\", \"raju\":\"paneer\", \"rajeev\": {\"breakfast\":\"peanut butter\",\"lunch\":\"roti\",\"dinner\":\"Paneer\"}}\n",
    "d2[\"ankit\"]=\"dal\"\n",
    "del d2[\"harry\"]\n",
    "print(d2)"
   ]
  },
  {
   "cell_type": "code",
   "execution_count": 14,
   "id": "1af7d5db",
   "metadata": {},
   "outputs": [
    {
     "name": "stdout",
     "output_type": "stream",
     "text": [
      "{'rohan': 'bhindi', 'raju': 'paneer', 'rajeev': {'breakfast': 'peanut butter', 'lunch': 'roti', 'dinner': 'Paneer'}, 'ankit': 'dal'}\n"
     ]
    }
   ],
   "source": [
    "d2={\"harry\": \"aalu\", \"rohan\": \"bhindi\", \"raju\":\"paneer\", \"rajeev\": {\"breakfast\":\"peanut butter\",\"lunch\":\"roti\",\"dinner\":\"Paneer\"}}\n",
    "d2[\"ankit\"]=\"dal\"\n",
    "d3=d2\n",
    "del d3[\"harry\"]\n",
    "print(d2)"
   ]
  },
  {
   "cell_type": "code",
   "execution_count": 16,
   "id": "d1865d0e",
   "metadata": {},
   "outputs": [
    {
     "name": "stdout",
     "output_type": "stream",
     "text": [
      "{'harry': 'aalu', 'rohan': 'bhindi', 'raju': 'paneer', 'rajeev': {'breakfast': 'peanut butter', 'lunch': 'roti', 'dinner': 'Paneer'}}\n",
      "{'rohan': 'bhindi', 'raju': 'paneer', 'rajeev': {'breakfast': 'peanut butter', 'lunch': 'roti', 'dinner': 'Paneer'}}\n"
     ]
    }
   ],
   "source": [
    "d2={\"harry\": \"aalu\", \"rohan\": \"bhindi\", \"raju\":\"paneer\", \"rajeev\": {\"breakfast\":\"peanut butter\",\"lunch\":\"roti\",\"dinner\":\"Paneer\"}}\n",
    "d3=d2.copy()\n",
    "del d3[\"harry\"]\n",
    "print(d2)\n",
    "print(d3)"
   ]
  },
  {
   "cell_type": "code",
   "execution_count": 18,
   "id": "e4d52683",
   "metadata": {},
   "outputs": [
    {
     "name": "stdout",
     "output_type": "stream",
     "text": [
      "aalu\n",
      "{'harry': 'aalu', 'rohan': 'bhindi', 'raju': 'paneer', 'rajeev': {'breakfast': 'peanut butter', 'lunch': 'roti', 'dinner': 'Paneer'}, 'Ram': 'sev'}\n"
     ]
    }
   ],
   "source": [
    "d2={\"harry\": \"aalu\",\n",
    "    \"rohan\": \"bhindi\", \n",
    "    \"raju\":\"paneer\", \n",
    "    \"rajeev\": {\"breakfast\":\"peanut butter\",\"lunch\":\"roti\",\"dinner\":\"Paneer\"}}\n",
    "print(d2.get(\"harry\"))\n",
    "d2.update({\"Ram\":\"sev\"})\n",
    "print(d2)"
   ]
  },
  {
   "cell_type": "code",
   "execution_count": 23,
   "id": "4a0f72f7",
   "metadata": {},
   "outputs": [
    {
     "name": "stdout",
     "output_type": "stream",
     "text": [
      "aalu\n",
      "dict_keys(['harry', 'rohan', 'raju', 'rajeev', 'Ram'])\n",
      "dict_values(['aalu', 'bhindi', 'paneer', {'breakfast': 'peanut butter', 'lunch': 'roti', 'dinner': 'Paneer'}, 'sev'])\n",
      "dict_items([('harry', 'aalu'), ('rohan', 'bhindi'), ('raju', 'paneer'), ('rajeev', {'breakfast': 'peanut butter', 'lunch': 'roti', 'dinner': 'Paneer'}), ('Ram', 'sev')])\n"
     ]
    }
   ],
   "source": [
    "d2={\"harry\": \"aalu\",\n",
    "    \"rohan\": \"bhindi\", \n",
    "    \"raju\":\"paneer\", \n",
    "    \"rajeev\": {\"breakfast\":\"peanut butter\",\"lunch\":\"roti\",\"dinner\":\"Paneer\"}}\n",
    "print(d2.get(\"harry\"))\n",
    "d2.update({\"Ram\":\"sev\"})\n",
    "print(d2.keys())\n",
    "print(d2.values())\n",
    "print(d2.items())"
   ]
  },
  {
   "cell_type": "code",
   "execution_count": 32,
   "id": "62e47bde",
   "metadata": {},
   "outputs": [
    {
     "name": "stdout",
     "output_type": "stream",
     "text": [
      "Male\n"
     ]
    }
   ],
   "source": [
    "dic = {\"Name\": \"Ash\",\"id\":\"22CS016\"}\n",
    "dic.setdefault(\"Sex\",\"Male\")\n",
    "dic.setdefault(\"Name\",\"Unkown\")\n",
    "print(dic[\"Sex\"])"
   ]
  },
  {
   "cell_type": "code",
   "execution_count": 33,
   "id": "d95c27e6",
   "metadata": {},
   "outputs": [
    {
     "name": "stdout",
     "output_type": "stream",
     "text": [
      "not known\n"
     ]
    }
   ],
   "source": [
    "student={\"name\":\"ashish\",\"branch\":\"cse\"}\n",
    "get_gender= student.pop(\"gender\",\"not known\")\n",
    "print(get_gender)"
   ]
  },
  {
   "cell_type": "code",
   "execution_count": null,
   "id": "73be3dbe",
   "metadata": {},
   "outputs": [],
   "source": []
  }
 ],
 "metadata": {
  "kernelspec": {
   "display_name": "Python 3",
   "language": "python",
   "name": "python3"
  },
  "language_info": {
   "codemirror_mode": {
    "name": "ipython",
    "version": 3
   },
   "file_extension": ".py",
   "mimetype": "text/x-python",
   "name": "python",
   "nbconvert_exporter": "python",
   "pygments_lexer": "ipython3",
   "version": "3.12.5"
  }
 },
 "nbformat": 4,
 "nbformat_minor": 5
}
