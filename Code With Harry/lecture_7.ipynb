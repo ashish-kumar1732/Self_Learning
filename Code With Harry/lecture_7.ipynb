{
 "cells": [
  {
   "cell_type": "code",
   "execution_count": 5,
   "id": "9329ad69",
   "metadata": {},
   "outputs": [
    {
     "name": "stdout",
     "output_type": "stream",
     "text": [
      "Matched and meaning of the word 'mutable' is: 'changable'\n"
     ]
    }
   ],
   "source": [
    "match_vocab = {\"set\": \"set means assigning value\",\n",
    "              \"mutable\": \"changable\",\n",
    "              \"immutable\": \"non-changable\",\n",
    "              \"pointer\": \"holds the address\"}\n",
    "\n",
    "vocab = input(\"enter a word(set, mutable, immutable, pointer): \")\n",
    "if vocab in match_vocab:\n",
    "    print(f\"Matched and meaning of the word '{vocab}' is: '{match_vocab[vocab]}'\")\n",
    "\n",
    "else:\n",
    "    print(\"word is not is in dictionary\")\n",
    "\n"
   ]
  }
 ],
 "metadata": {
  "kernelspec": {
   "display_name": "Python 3",
   "language": "python",
   "name": "python3"
  },
  "language_info": {
   "codemirror_mode": {
    "name": "ipython",
    "version": 3
   },
   "file_extension": ".py",
   "mimetype": "text/x-python",
   "name": "python",
   "nbconvert_exporter": "python",
   "pygments_lexer": "ipython3",
   "version": "3.12.5"
  }
 },
 "nbformat": 4,
 "nbformat_minor": 5
}
